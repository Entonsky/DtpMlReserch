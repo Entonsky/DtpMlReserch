{
 "cells": [
  {
   "cell_type": "code",
   "execution_count": 1,
   "metadata": {},
   "outputs": [],
   "source": [
    "import pandas as pd\n",
    "import numpy as np\n",
    "from sklearn.preprocessing import OneHotEncoder"
   ]
  },
  {
   "cell_type": "markdown",
   "metadata": {},
   "source": [
    "## Load Data"
   ]
  },
  {
   "cell_type": "code",
   "execution_count": 2,
   "metadata": {},
   "outputs": [
    {
     "data": {
      "text/plain": [
       "(5836, 9)"
      ]
     },
     "execution_count": 2,
     "metadata": {},
     "output_type": "execute_result"
    }
   ],
   "source": [
    "vn_data = pd.read_csv('VN_converted.csv').drop(columns = ['Unnamed: 0'])\n",
    "vn_data.shape"
   ]
  },
  {
   "cell_type": "code",
   "execution_count": 3,
   "metadata": {},
   "outputs": [
    {
     "data": {
      "text/plain": [
       "(9705, 9)"
      ]
     },
     "execution_count": 3,
     "metadata": {},
     "output_type": "execute_result"
    }
   ],
   "source": [
    "msk_data = pd.read_csv('MSK_converted.csv').drop(columns = ['Unnamed: 0'])\n",
    "msk_data.shape"
   ]
  },
  {
   "cell_type": "code",
   "execution_count": 4,
   "metadata": {},
   "outputs": [
    {
     "data": {
      "text/plain": [
       "array([ True,  True,  True,  True,  True,  True,  True,  True,  True])"
      ]
     },
     "execution_count": 4,
     "metadata": {},
     "output_type": "execute_result"
    }
   ],
   "source": [
    "vn_data.columns == msk_data.columns"
   ]
  },
  {
   "cell_type": "markdown",
   "metadata": {},
   "source": [
    "## Train CROSS"
   ]
  },
  {
   "cell_type": "code",
   "execution_count": 5,
   "metadata": {},
   "outputs": [],
   "source": [
    "data = msk_data\n",
    "cross_data = vn_data"
   ]
  },
  {
   "cell_type": "code",
   "execution_count": 6,
   "metadata": {},
   "outputs": [],
   "source": [
    "import xgboost as xgb\n",
    "from xgboost import XGBClassifier\n",
    "from sklearn.svm import SVC, LinearSVC\n",
    "from sklearn.metrics import accuracy_score\n",
    "from sklearn.naive_bayes import GaussianNB"
   ]
  },
  {
   "cell_type": "code",
   "execution_count": 7,
   "metadata": {},
   "outputs": [],
   "source": [
    "X, y_coord = data.iloc[:,:-3], data.iloc[:,-3:]"
   ]
  },
  {
   "cell_type": "code",
   "execution_count": 8,
   "metadata": {},
   "outputs": [],
   "source": [
    "from sklearn.model_selection import train_test_split\n",
    "\n",
    "X_train, X_test, y_train_coord, y_test_coord = train_test_split(X, y_coord, test_size=0.2, random_state=123)\n",
    "y_train = y_train_coord.iloc[:, 2]\n",
    "y_test = y_test_coord.iloc[:, 2]"
   ]
  },
  {
   "cell_type": "code",
   "execution_count": 9,
   "metadata": {},
   "outputs": [],
   "source": [
    "X_cross = cross_data.iloc[:,:-3]\n",
    "y_cross = cross_data.iloc[:,-1]"
   ]
  },
  {
   "cell_type": "code",
   "execution_count": 10,
   "metadata": {},
   "outputs": [
    {
     "name": "stdout",
     "output_type": "stream",
     "text": [
      "NB\n",
      "xgb_train2\n",
      "xgb_train3\n",
      "xgb_train6\n"
     ]
    },
    {
     "data": {
      "text/plain": [
       "XGBClassifier(base_score=0.5, booster='gbtree', colsample_bylevel=1,\n",
       "              colsample_bynode=1, colsample_bytree=1, gamma=0, gpu_id=-1,\n",
       "              importance_type='gain', interaction_constraints='',\n",
       "              learning_rate=0.300000012, max_delta_step=0, max_depth=6,\n",
       "              min_child_weight=1, missing=nan, monotone_constraints='()',\n",
       "              n_estimators=100, n_jobs=0, num_parallel_tree=1, random_state=0,\n",
       "              reg_alpha=0, reg_lambda=1, scale_pos_weight=1, subsample=1,\n",
       "              tree_method='exact', validate_parameters=1, verbosity=None)"
      ]
     },
     "execution_count": 10,
     "metadata": {},
     "output_type": "execute_result"
    }
   ],
   "source": [
    "# fit model no training data\n",
    "models = {}\n",
    "print('NB')\n",
    "models['NB'] = GaussianNB()\n",
    "models['NB'].fit(X_train, y_train)\n",
    "print('xgb_train2')\n",
    "models['xgb2'] = XGBClassifier(max_depth=2)\n",
    "models['xgb2'].fit(X_train, y_train)\n",
    "print('xgb_train3')\n",
    "models['xgb3'] = XGBClassifier(max_depth=3)\n",
    "models['xgb3'].fit(X_train, y_train)\n",
    "print('xgb_train6')\n",
    "models['xgb6'] = XGBClassifier(max_depth=6)\n",
    "models['xgb6'].fit(X_train, y_train)\n",
    "#print('svm')\n",
    "#models['lin_svm'] = SVC(kernel=\"linear\") #, C=0.025)\n",
    "#models['lin_svm'].fit(X_train, y_train)"
   ]
  },
  {
   "cell_type": "code",
   "execution_count": 11,
   "metadata": {},
   "outputs": [
    {
     "name": "stdout",
     "output_type": "stream",
     "text": [
      "NB\n",
      "- accuracy test: 72.75%\n",
      "- accuracy cross: 79.11%\n",
      "- accuracy train: 73.30%\n",
      "xgb2\n",
      "- accuracy test: 86.14%\n",
      "- accuracy cross: 74.45%\n",
      "- accuracy train: 86.15%\n",
      "xgb3\n",
      "- accuracy test: 86.45%\n",
      "- accuracy cross: 72.17%\n",
      "- accuracy train: 87.80%\n",
      "xgb6\n",
      "- accuracy test: 85.06%\n",
      "- accuracy cross: 73.01%\n",
      "- accuracy train: 95.09%\n"
     ]
    }
   ],
   "source": [
    "y_test_pred = {}\n",
    "y_train_pred = {}\n",
    "y_cross_pred = {}\n",
    "test_predicted_coord = [y_test_coord]\n",
    "for model_name, model in models.items():\n",
    "    y_test_pred[model_name] = model.predict(X_test)\n",
    "    y_train_pred[model_name] = model.predict(X_train)\n",
    "    y_cross_pred[model_name] = model.predict(X_cross)\n",
    "    test_predicted_coord.append(pd.DataFrame(model.predict_proba(X_test)[:,1], columns=[model_name]))\n",
    "    print(model_name)\n",
    "    accuracy = accuracy_score(y_test, y_test_pred[model_name])\n",
    "    print(\"- accuracy test: %.2f%%\" % (accuracy * 100.0))\n",
    "    accuracy = accuracy_score(y_cross, y_cross_pred[model_name])\n",
    "    print(\"- accuracy cross: %.2f%%\" % (accuracy * 100.0))    \n",
    "    accuracy = accuracy_score(y_train, y_train_pred[model_name])\n",
    "    print(\"- accuracy train: %.2f%%\" % (accuracy * 100.0))    "
   ]
  },
  {
   "cell_type": "markdown",
   "metadata": {},
   "source": [
    "VN-> Msk test\n",
    "<br>NB\n",
    "- accuracy test: 79.02%\n",
    "- accuracy cross: 61.21%\n",
    "- accuracy train: 78.06%\n",
    "<br>xgb2\n",
    "- accuracy test: 88.18%\n",
    "- accuracy cross: 60.43%\n",
    "- accuracy train: 89.42%\n",
    "<br>xgb3\n",
    "- accuracy test: 89.55%\n",
    "- accuracy cross: 59.53%\n",
    "- accuracy train: 92.42%\n",
    "<br>xgb6\n",
    "- accuracy test: 92.04%\n",
    "- accuracy cross: 56.94%\n",
    "- accuracy train: 99.27%"
   ]
  },
  {
   "cell_type": "markdown",
   "metadata": {},
   "source": [
    "Msk -> VN\n",
    "<br>NB\n",
    "- accuracy test: 72.75%\n",
    "- accuracy cross: 79.11%\n",
    "- accuracy train: 73.30%\n",
    "<br>xgb2\n",
    "- accuracy test: 86.14%\n",
    "- accuracy cross: 74.45%\n",
    "- accuracy train: 86.15%\n",
    "<br>xgb3\n",
    "- accuracy test: 86.45%\n",
    "- accuracy cross: 72.17%\n",
    "- accuracy train: 87.80%\n",
    "<br>xgb6\n",
    "- accuracy test: 85.06%\n",
    "- accuracy cross: 73.01%\n",
    "- accuracy train: 95.09%"
   ]
  },
  {
   "cell_type": "code",
   "execution_count": 12,
   "metadata": {},
   "outputs": [
    {
     "name": "stdout",
     "output_type": "stream",
     "text": [
      "(1941, 3)\n",
      "(1941, 1)\n",
      "(1941, 1)\n",
      "(1941, 1)\n",
      "(1941, 1)\n"
     ]
    }
   ],
   "source": [
    "all_cols = []\n",
    "for i in range(len(test_predicted_coord)):\n",
    "    print(test_predicted_coord[i].shape)\n",
    "    all_cols+= list(test_predicted_coord[i].columns)"
   ]
  },
  {
   "cell_type": "code",
   "execution_count": 13,
   "metadata": {},
   "outputs": [],
   "source": [
    "result = pd.DataFrame(np.concatenate(test_predicted_coord, axis=1), columns = all_cols)"
   ]
  },
  {
   "cell_type": "code",
   "execution_count": 14,
   "metadata": {},
   "outputs": [],
   "source": [
    "result.to_csv('predict_result.csv')"
   ]
  },
  {
   "cell_type": "code",
   "execution_count": 15,
   "metadata": {},
   "outputs": [
    {
     "name": "stdout",
     "output_type": "stream",
     "text": [
      "Bump_HubDist :  0.017619444\n",
      "Stop_HubDist :  0.031177206\n",
      "traf_HubDist :  0.03318028\n",
      "Cros_HubDist :  0.13449726\n",
      "join_f_lanes :  0.2133873\n",
      "join_speedlim :  0.5701385\n"
     ]
    }
   ],
   "source": [
    "#Xgb feature importance\n",
    "importance = []\n",
    "for i in range(len(X.columns)):\n",
    "    importance.append((X.columns[i], models['xgb3'].feature_importances_[i]))\n",
    "importance.sort(key = lambda x: x[1])\n",
    "for item in importance:\n",
    "    print(item[0], ': ', item[1])"
   ]
  }
 ],
 "metadata": {
  "kernelspec": {
   "display_name": "Python 3",
   "language": "python",
   "name": "python3"
  },
  "language_info": {
   "codemirror_mode": {
    "name": "ipython",
    "version": 3
   },
   "file_extension": ".py",
   "mimetype": "text/x-python",
   "name": "python",
   "nbconvert_exporter": "python",
   "pygments_lexer": "ipython3",
   "version": "3.8.3"
  }
 },
 "nbformat": 4,
 "nbformat_minor": 4
}
